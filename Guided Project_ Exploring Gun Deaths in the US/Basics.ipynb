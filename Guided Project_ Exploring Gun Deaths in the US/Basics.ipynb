{
 "cells": [
  {
   "cell_type": "code",
   "execution_count": 2,
   "metadata": {
    "collapsed": false
   },
   "outputs": [
    {
     "name": "stdout",
     "output_type": "stream",
     "text": [
      "[['', 'year', 'month', 'intent', 'police', 'sex', 'age', 'race', 'hispanic', 'place', 'education'], ['1', '2012', '01', 'Suicide', '0', 'M', '34', 'Asian/Pacific Islander', '100', 'Home', '4'], ['2', '2012', '01', 'Suicide', '0', 'F', '21', 'White', '100', 'Street', '3'], ['3', '2012', '01', 'Suicide', '0', 'M', '60', 'White', '100', 'Other specified', '4'], ['4', '2012', '02', 'Suicide', '0', 'M', '64', 'White', '100', 'Home', '4']]\n"
     ]
    }
   ],
   "source": [
    "import csv\n",
    "\n",
    "f = open(\"guns.csv\", \"r\")\n",
    "data = list(csv.reader(f))\n",
    "print(data[0:5])"
   ]
  },
  {
   "cell_type": "code",
   "execution_count": 3,
   "metadata": {
    "collapsed": false
   },
   "outputs": [
    {
     "name": "stdout",
     "output_type": "stream",
     "text": [
      "['', 'year', 'month', 'intent', 'police', 'sex', 'age', 'race', 'hispanic', 'place', 'education']\n",
      "_______\n",
      "[['1', '2012', '01', 'Suicide', '0', 'M', '34', 'Asian/Pacific Islander', '100', 'Home', '4'], ['2', '2012', '01', 'Suicide', '0', 'F', '21', 'White', '100', 'Street', '3'], ['3', '2012', '01', 'Suicide', '0', 'M', '60', 'White', '100', 'Other specified', '4'], ['4', '2012', '02', 'Suicide', '0', 'M', '64', 'White', '100', 'Home', '4'], ['5', '2012', '02', 'Suicide', '0', 'M', '31', 'White', '100', 'Other specified', '2']]\n"
     ]
    }
   ],
   "source": [
    "headers = data[0]\n",
    "data = data[1:]\n",
    "print(headers)\n",
    "print(\"_______\")\n",
    "print(data[0:5])"
   ]
  },
  {
   "cell_type": "code",
   "execution_count": 4,
   "metadata": {
    "collapsed": false
   },
   "outputs": [
    {
     "name": "stdout",
     "output_type": "stream",
     "text": [
      "{'2014': 33599, '2012': 33563, '2013': 33636}\n"
     ]
    }
   ],
   "source": [
    "years = [row[1] for row in data ]\n",
    "\n",
    "year_counts = {}\n",
    "\n",
    "for year in years:\n",
    "    if year in year_counts:\n",
    "        year_counts[year] += 1\n",
    "    else:\n",
    "        year_counts[year] = 1\n",
    "print(year_counts)"
   ]
  },
  {
   "cell_type": "code",
   "execution_count": 6,
   "metadata": {
    "collapsed": false
   },
   "outputs": [
    {
     "name": "stdout",
     "output_type": "stream",
     "text": [
      "[datetime.datetime(2012, 1, 1, 0, 0), datetime.datetime(2012, 1, 1, 0, 0), datetime.datetime(2012, 1, 1, 0, 0), datetime.datetime(2012, 2, 1, 0, 0), datetime.datetime(2012, 2, 1, 0, 0)]\n",
      "{datetime.datetime(2013, 8, 1, 0, 0): 2859, datetime.datetime(2014, 3, 1, 0, 0): 2684, datetime.datetime(2013, 2, 1, 0, 0): 2375, datetime.datetime(2014, 12, 1, 0, 0): 2857, datetime.datetime(2013, 1, 1, 0, 0): 2864, datetime.datetime(2013, 11, 1, 0, 0): 2758, datetime.datetime(2012, 3, 1, 0, 0): 2743, datetime.datetime(2013, 10, 1, 0, 0): 2808, datetime.datetime(2012, 4, 1, 0, 0): 2795, datetime.datetime(2012, 10, 1, 0, 0): 2733, datetime.datetime(2014, 9, 1, 0, 0): 2914, datetime.datetime(2014, 11, 1, 0, 0): 2756, datetime.datetime(2013, 7, 1, 0, 0): 3079, datetime.datetime(2012, 11, 1, 0, 0): 2729, datetime.datetime(2012, 8, 1, 0, 0): 2954, datetime.datetime(2012, 9, 1, 0, 0): 2852, datetime.datetime(2013, 3, 1, 0, 0): 2862, datetime.datetime(2012, 7, 1, 0, 0): 3026, datetime.datetime(2012, 12, 1, 0, 0): 2791, datetime.datetime(2014, 2, 1, 0, 0): 2361, datetime.datetime(2013, 12, 1, 0, 0): 2765, datetime.datetime(2014, 1, 1, 0, 0): 2651, datetime.datetime(2012, 6, 1, 0, 0): 2826, datetime.datetime(2014, 8, 1, 0, 0): 2970, datetime.datetime(2012, 5, 1, 0, 0): 2999, datetime.datetime(2012, 2, 1, 0, 0): 2357, datetime.datetime(2014, 10, 1, 0, 0): 2865, datetime.datetime(2014, 5, 1, 0, 0): 2864, datetime.datetime(2013, 6, 1, 0, 0): 2920, datetime.datetime(2013, 9, 1, 0, 0): 2742, datetime.datetime(2013, 4, 1, 0, 0): 2798, datetime.datetime(2013, 5, 1, 0, 0): 2806, datetime.datetime(2014, 4, 1, 0, 0): 2862, datetime.datetime(2012, 1, 1, 0, 0): 2758, datetime.datetime(2014, 7, 1, 0, 0): 2884, datetime.datetime(2014, 6, 1, 0, 0): 2931}\n"
     ]
    }
   ],
   "source": [
    "import datetime\n",
    "dates = [ datetime.datetime(year=int(row[1]), month=int(row[2]), day=1) for row in data ]\n",
    "print(dates[0:5])\n",
    "\n",
    "date_counts = {}\n",
    "\n",
    "for date in dates:\n",
    "    if date in date_counts:\n",
    "        date_counts[date] += 1\n",
    "    else:\n",
    "        date_counts[date] = 1\n",
    "print(date_counts)"
   ]
  },
  {
   "cell_type": "code",
   "execution_count": 5,
   "metadata": {
    "collapsed": false
   },
   "outputs": [
    {
     "name": "stdout",
     "output_type": "stream",
     "text": [
      "['M', 'F', 'M', 'M', 'M']\n",
      "{'F': 14449, 'M': 86349}\n",
      "['Asian/Pacific Islander', 'White', 'White', 'White', 'White']\n",
      "{'Black': 23296, 'Native American/Native Alaskan': 917, 'Asian/Pacific Islander': 1326, 'White': 66237, 'Hispanic': 9022}\n"
     ]
    }
   ],
   "source": [
    "sexes = [ row[5] for row in data ]\n",
    "print(sexes[0:5])\n",
    "\n",
    "sex_counts = {}\n",
    "for sex in sexes:\n",
    "    if sex in sex_counts:\n",
    "        sex_counts[sex] += 1\n",
    "    else:\n",
    "        sex_counts[sex] = 1\n",
    "print(sex_counts)\n",
    "\n",
    "races = [ row[7] for row in data ]\n",
    "print(races[0:5])\n",
    "\n",
    "race_counts = {}\n",
    "for race in races:\n",
    "    if race in race_counts:\n",
    "        race_counts[race] += 1\n",
    "    else:\n",
    "        race_counts[race] = 1\n",
    "print(race_counts)"
   ]
  },
  {
   "cell_type": "markdown",
   "metadata": {},
   "source": [
    "### Learning so far:\n",
    "\n",
    "Majority of gun victims are white men"
   ]
  },
  {
   "cell_type": "code",
   "execution_count": 6,
   "metadata": {
    "collapsed": false
   },
   "outputs": [
    {
     "name": "stdout",
     "output_type": "stream",
     "text": [
      "['Id', 'Year', 'Id', 'Sex', 'Id', 'Hispanic Origin', 'Id', 'Id2', 'Geography', 'Total', 'Race Alone - White', 'Race Alone - Hispanic', 'Race Alone - Black or African American', 'Race Alone - American Indian and Alaska Native', 'Race Alone - Asian', 'Race Alone - Native Hawaiian and Other Pacific Islander', 'Two or More Races']\n",
      "['cen42010', 'April 1, 2010 Census', 'totsex', 'Both Sexes', 'tothisp', 'Total', '0100000US', '', 'United States', '308745538', '197318956', '44618105', '40250635', '3739506', '15159516', '674625', '6984195']\n"
     ]
    }
   ],
   "source": [
    "f = open(\"census.csv\", \"r\")\n",
    "census = list(csv.reader(f))\n",
    "\n",
    "print(census[0])\n",
    "print(census[1])"
   ]
  },
  {
   "cell_type": "code",
   "execution_count": 8,
   "metadata": {
    "collapsed": false
   },
   "outputs": [
    {
     "name": "stdout",
     "output_type": "stream",
     "text": [
      "Race Alone - Asian\n",
      "Race Alone - Native Hawaiian and Other Pacific Islander\n",
      "Race Alone - Black or African American\n",
      "Race Alone - Hispanic\n",
      "Race Alone - American Indian and Alaska Native\n",
      "Race Alone - White\n",
      "{'Black': '40250635', 'Native American/Native Alaskan': '3739506', 'Asian/Pacific Islander': '15159516674625', 'White': '197318956', 'Hispanic': '44618105'}\n"
     ]
    }
   ],
   "source": [
    "mapping = {\n",
    "     'Asian/Pacific Islander': 0,\n",
    "     'Black': 0,\n",
    "     'Hispanic': 0,\n",
    "     'Native American/Native Alaskan': 0,\n",
    "     'White': 0\n",
    "}\n",
    "\n",
    "# Race Alone - Asian\n",
    "print(census[0][14])\n",
    "# Race Alone - Native Hawaiian and Other Pacific Islander\n",
    "print(census[0][15])\n",
    "# Race Alone - Black or African American\n",
    "print(census[0][12])\n",
    "# Race Alone - Hispanic\n",
    "print(census[0][11])\n",
    "# Race Alone - American Indian and Alaska Native\n",
    "print(census[0][13])\n",
    "# Race Alone - White\n",
    "print(census[0][10])\n",
    "\n",
    "mapping[\"Asian/Pacific Islander\"] = census[1][14] + census[1][15]\n",
    "mapping[\"Black\"] = census[1][12]\n",
    "mapping[\"Hispanic\"] = census[1][11]\n",
    "mapping[\"Native American/Native Alaskan\"] = census[1][13]\n",
    "mapping[\"White\"] = census[1][10]\n",
    "    \n",
    "print(mapping)\n",
    "    "
   ]
  },
  {
   "cell_type": "code",
   "execution_count": 9,
   "metadata": {
    "collapsed": false
   },
   "outputs": [
    {
     "name": "stdout",
     "output_type": "stream",
     "text": [
      "{'Asian/Pacific Islander': 8.746980714890115e-06, 'Native American/Native Alaskan': 24.521955573811088, 'Black': 57.8773477735196, 'White': 33.56849303419181, 'Hispanic': 20.220491210910907}\n"
     ]
    }
   ],
   "source": [
    "race_per_hundredk = {}\n",
    "\n",
    "for race in race_counts:\n",
    "    race_per_hundredk[race] = int(race_counts[race]) / int(mapping[race]) * 100000 \n",
    "\n",
    "print(race_per_hundredk)"
   ]
  },
  {
   "cell_type": "code",
   "execution_count": 10,
   "metadata": {
    "collapsed": false
   },
   "outputs": [
    {
     "name": "stdout",
     "output_type": "stream",
     "text": [
      "['Suicide', 'Suicide', 'Suicide', 'Suicide', 'Suicide']\n",
      "['Asian/Pacific Islander', 'White', 'White', 'White', 'White']\n"
     ]
    }
   ],
   "source": [
    "intents = [row[3] for row in data]\n",
    "print(intents[0:5])\n",
    "races = [row[7] for row in data]\n",
    "print(races[0:5])"
   ]
  },
  {
   "cell_type": "code",
   "execution_count": 26,
   "metadata": {
    "collapsed": false
   },
   "outputs": [
    {
     "name": "stdout",
     "output_type": "stream",
     "text": [
      "{'Black': 19510, 'Native American/Native Alaskan': 326, 'Asian/Pacific Islander': 559, 'White': 9147, 'Hispanic': 5634}\n"
     ]
    }
   ],
   "source": [
    "homicide_race_counts = {}\n",
    "\n",
    "for i, race in enumerate(races):\n",
    "    if intents[i] == \"Homicide\":\n",
    "        if race in homicide_race_counts:\n",
    "            homicide_race_counts[race] += 1\n",
    "        else:\n",
    "            homicide_race_counts[race] = 1\n",
    "\n",
    "print(homicide_race_counts)"
   ]
  },
  {
   "cell_type": "code",
   "execution_count": 27,
   "metadata": {
    "collapsed": false
   },
   "outputs": [
    {
     "name": "stdout",
     "output_type": "stream",
     "text": [
      "Black\n",
      "Native American/Native Alaskan\n",
      "Asian/Pacific Islander\n",
      "White\n",
      "Hispanic\n",
      "{'Asian/Pacific Islander': 3.687452654316421e-06, 'Native American/Native Alaskan': 8.717729026240365, 'Black': 48.471284987180944, 'White': 4.6356417981453335, 'Hispanic': 12.627161104219914}\n"
     ]
    }
   ],
   "source": [
    "race_homicide_per_hundredk = {}\n",
    "\n",
    "for race in homicide_race_counts:\n",
    "    print(race)\n",
    "    race_homicide_per_hundredk[race] = int(homicide_race_counts[race]) / int(mapping[race]) * 100000 \n",
    "\n",
    "print(race_homicide_per_hundredk)"
   ]
  },
  {
   "cell_type": "markdown",
   "metadata": {
    "collapsed": true
   },
   "source": [
    "### Let's investigate if there is any pattern looking at month and homocide rate"
   ]
  },
  {
   "cell_type": "code",
   "execution_count": 19,
   "metadata": {
    "collapsed": false
   },
   "outputs": [
    {
     "name": "stdout",
     "output_type": "stream",
     "text": [
      "{'06': 3130, '05': 2976, '02': 2178, '10': 2968, '11': 2919, '08': 3125, '07': 3269, '04': 2845, '01': 2829, '09': 2966, '12': 3191, '03': 2780}\n"
     ]
    }
   ],
   "source": [
    "months = [ row[2] for row in data ]\n",
    "\n",
    "homicide_race_per_month_counts = {}\n",
    "\n",
    "for i, month in enumerate(months):\n",
    "    if intents[i] == \"Homicide\":\n",
    "        if month in homicide_race_per_month_counts:\n",
    "            homicide_race_per_month_counts[month] += 1\n",
    "        else:\n",
    "            homicide_race_per_month_counts[month] = 1\n",
    "\n",
    "print(homicide_race_per_month_counts)"
   ]
  },
  {
   "cell_type": "markdown",
   "metadata": {},
   "source": [
    "We can slightly see that homicides are more numerous during summer months\n",
    "- Deaths are > 3000 from June to August\n",
    "- Deaths are < 3000 the other months, excelpt during December"
   ]
  },
  {
   "cell_type": "markdown",
   "metadata": {},
   "source": [
    "### Let's explore the homicide rate by gender"
   ]
  },
  {
   "cell_type": "code",
   "execution_count": 22,
   "metadata": {
    "collapsed": false
   },
   "outputs": [
    {
     "name": "stdout",
     "output_type": "stream",
     "text": [
      "{'F': 5373, 'M': 29803}\n"
     ]
    }
   ],
   "source": [
    "sexes = [ row[5] for row in data ]\n",
    "\n",
    "homicide_race_per_gender_counts = {}\n",
    "\n",
    "for i, sex in enumerate(sexes):\n",
    "    if intents[i] == \"Homicide\":\n",
    "        if sex in homicide_race_per_gender_counts:\n",
    "            homicide_race_per_gender_counts[sex] += 1\n",
    "        else:\n",
    "            homicide_race_per_gender_counts[sex] = 1\n",
    "\n",
    "print(homicide_race_per_gender_counts)"
   ]
  },
  {
   "cell_type": "markdown",
   "metadata": {},
   "source": [
    "### Let's explore other death intents"
   ]
  },
  {
   "cell_type": "code",
   "execution_count": 25,
   "metadata": {
    "collapsed": false
   },
   "outputs": [
    {
     "name": "stdout",
     "output_type": "stream",
     "text": [
      "{'Asian/Pacific Islander': 12, 'Native American/Native Alaskan': 22, 'Black': 328, 'White': 1132, 'Hispanic': 145}\n"
     ]
    }
   ],
   "source": [
    "accidental_race_counts = {}\n",
    "\n",
    "for i, race in enumerate(races):\n",
    "    if intents[i] == \"Accidental\":\n",
    "        if race in accidental_race_counts:\n",
    "            accidental_race_counts[race] += 1\n",
    "        else:\n",
    "            accidental_race_counts[race] = 1\n",
    "\n",
    "print(accidental_race_counts)"
   ]
  },
  {
   "cell_type": "code",
   "execution_count": 29,
   "metadata": {
    "collapsed": false
   },
   "outputs": [
    {
     "name": "stdout",
     "output_type": "stream",
     "text": [
      "{'Black': 0.814893976206835, 'Native American/Native Alaskan': 0.5883130017708221, 'Asian/Pacific Islander': 7.915819651484268e-08, 'White': 0.5736904466492313, 'Hispanic': 0.3249801846133985}\n"
     ]
    }
   ],
   "source": [
    "race_accidental_per_hundredk = {}\n",
    "\n",
    "for race in accidental_race_counts:\n",
    "    race_accidental_per_hundredk[race] = int(accidental_race_counts[race]) / int(mapping[race]) * 100000 \n",
    "\n",
    "print(race_accidental_per_hundredk)\n"
   ]
  },
  {
   "cell_type": "code",
   "execution_count": 30,
   "metadata": {
    "collapsed": false
   },
   "outputs": [
    {
     "name": "stdout",
     "output_type": "stream",
     "text": [
      "{'06': 112, '05': 115, '02': 127, '10': 131, '09': 118, '08': 164, '07': 149, '04': 98, '01': 152, '11': 160, '12': 179, '03': 134}\n"
     ]
    }
   ],
   "source": [
    "months = [ row[2] for row in data ]\n",
    "\n",
    "accidental_race_per_month_counts = {}\n",
    "\n",
    "for i, month in enumerate(months):\n",
    "    if intents[i] == \"Accidental\":\n",
    "        if month in accidental_race_per_month_counts:\n",
    "            accidental_race_per_month_counts[month] += 1\n",
    "        else:\n",
    "            accidental_race_per_month_counts[month] = 1\n",
    "\n",
    "print(accidental_race_per_month_counts)"
   ]
  },
  {
   "cell_type": "markdown",
   "metadata": {},
   "source": [
    "### Find out if gun death rates correlate to location and education\n",
    "\n",
    "Keep in mind that for education\n",
    "```\n",
    "education -- educational status of the victim. Can be one of the following:\n",
    "1 -- Less than High School\n",
    "2 -- Graduated from High School or equivalent\n",
    "3 -- Some College\n",
    "4 -- At least graduated from College\n",
    "5 -- Not available\n",
    "```"
   ]
  },
  {
   "cell_type": "code",
   "execution_count": 31,
   "metadata": {
    "collapsed": false
   },
   "outputs": [
    {
     "name": "stdout",
     "output_type": "stream",
     "text": [
      "['Home', 'Street', 'Other specified', 'Home', 'Other specified']\n",
      "['4', '3', '4', '4', '2']\n"
     ]
    }
   ],
   "source": [
    "places = [ row[9] for row in data ]\n",
    "educations = [ row[10] for row in data ]\n",
    "print(places[0:5])\n",
    "print(educations[0:5])"
   ]
  },
  {
   "cell_type": "code",
   "execution_count": 33,
   "metadata": {
    "collapsed": false
   },
   "outputs": [
    {
     "name": "stdout",
     "output_type": "stream",
     "text": [
      "{'Trade/service area': 3439, 'NA': 1384, 'Other unspecified': 8867, 'Sports': 128, 'Street': 11151, 'Other specified': 13751, 'Farm': 470, 'School/instiution': 671, 'Residential institution': 203, 'Industrial/construction': 248, 'Home': 60486}\n"
     ]
    }
   ],
   "source": [
    "place_counts = {}\n",
    "\n",
    "for i, place in enumerate(places):\n",
    "    if place in place_counts:\n",
    "        place_counts[place] += 1\n",
    "    else:\n",
    "        place_counts[place] = 1\n",
    "\n",
    "print(place_counts)"
   ]
  },
  {
   "cell_type": "markdown",
   "metadata": {},
   "source": [
    "Majority of gun deaths are happening at home. Let's see what is the intent happening then."
   ]
  },
  {
   "cell_type": "code",
   "execution_count": 35,
   "metadata": {
    "collapsed": false
   },
   "outputs": [
    {
     "name": "stdout",
     "output_type": "stream",
     "text": [
      "{'Homicide': 13613, 'Undetermined': 535, 'Suicide': 45415, 'Accidental': 923}\n"
     ]
    }
   ],
   "source": [
    "intents = [ row[3] for row in data ]\n",
    "home_intent_counts = {}\n",
    "\n",
    "for i, intent in enumerate(intents):\n",
    "    if places[i] == \"Home\":\n",
    "        if intent in home_intent_counts:\n",
    "            home_intent_counts[intent] += 1\n",
    "        else:\n",
    "            home_intent_counts[intent] = 1\n",
    "\n",
    "print(home_intent_counts)"
   ]
  },
  {
   "cell_type": "markdown",
   "metadata": {},
   "source": [
    "Home is the first place for gun shot to commit suicide. Followed by far with Homicide.\n",
    "\n",
    "Street was the second place where gun shots occured, let's find out the intent of gun shots then"
   ]
  },
  {
   "cell_type": "code",
   "execution_count": 36,
   "metadata": {
    "collapsed": false
   },
   "outputs": [
    {
     "name": "stdout",
     "output_type": "stream",
     "text": [
      "{'Homicide': 8867, 'Undetermined': 25, 'Suicide': 2181, 'Accidental': 78}\n"
     ]
    }
   ],
   "source": [
    "intents = [ row[3] for row in data ]\n",
    "street_intent_counts = {}\n",
    "\n",
    "for i, intent in enumerate(intents):\n",
    "    if places[i] == \"Street\":\n",
    "        if intent in street_intent_counts:\n",
    "            street_intent_counts[intent] += 1\n",
    "        else:\n",
    "            street_intent_counts[intent] = 1\n",
    "\n",
    "print(street_intent_counts)"
   ]
  },
  {
   "cell_type": "markdown",
   "metadata": {},
   "source": [
    "Street is the first place where homicide happens"
   ]
  },
  {
   "cell_type": "markdown",
   "metadata": {},
   "source": [
    "### What about education ?\n",
    "\n",
    "1 -- Less than High School\n",
    "2 -- Graduated from High School or equivalent\n",
    "3 -- Some College\n",
    "4 -- At least graduated from College\n",
    "5 -- Not available"
   ]
  },
  {
   "cell_type": "code",
   "execution_count": 38,
   "metadata": {
    "collapsed": false
   },
   "outputs": [
    {
     "name": "stdout",
     "output_type": "stream",
     "text": [
      "{'3': 21680, 'NA': 53, '5': 1369, '1': 21823, '4': 12946, '2': 42927}\n"
     ]
    }
   ],
   "source": [
    "education_counts = {}\n",
    "\n",
    "for i, ed in enumerate(educations):\n",
    "    if ed in education_counts:\n",
    "        education_counts[ed] += 1\n",
    "    else:\n",
    "        education_counts[ed] = 1\n",
    "\n",
    "print(education_counts)"
   ]
  },
  {
   "cell_type": "markdown",
   "metadata": {},
   "source": [
    "Gun shot victimes have education from High School or"
   ]
  }
 ],
 "metadata": {
  "kernelspec": {
   "display_name": "Python 3",
   "language": "python",
   "name": "python3"
  },
  "language_info": {
   "codemirror_mode": {
    "name": "ipython",
    "version": 3
   },
   "file_extension": ".py",
   "mimetype": "text/x-python",
   "name": "python",
   "nbconvert_exporter": "python",
   "pygments_lexer": "ipython3",
   "version": "3.4.3"
  }
 },
 "nbformat": 4,
 "nbformat_minor": 0
}
